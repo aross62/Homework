{
 "cells": [
  {
   "cell_type": "code",
   "execution_count": 13,
   "metadata": {},
   "outputs": [
    {
     "name": "stdout",
     "output_type": "stream",
     "text": [
      "The maximum value is 87\n"
     ]
    }
   ],
   "source": [
    "#problem2a\n",
    "list_a = [3,4,6,10,39,87,12,54]\n",
    "max(list_a)\n",
    "print(\"The maximum value is\", max(list_a))"
   ]
  },
  {
   "cell_type": "code",
   "execution_count": 12,
   "metadata": {},
   "outputs": [
    {
     "name": "stdout",
     "output_type": "stream",
     "text": [
      "The minimum value is 3\n"
     ]
    }
   ],
   "source": [
    "min(list_a)\n",
    "print(\"The minimum value is\",min(list_a))"
   ]
  },
  {
   "cell_type": "code",
   "execution_count": 14,
   "metadata": {},
   "outputs": [
    {
     "name": "stdout",
     "output_type": "stream",
     "text": [
      "The summation of the list is 215\n"
     ]
    }
   ],
   "source": [
    "sum(list_a)\n",
    "print(\"The summation of the list is\", sum(list_a))"
   ]
  },
  {
   "cell_type": "code",
   "execution_count": 20,
   "metadata": {},
   "outputs": [
    {
     "name": "stdout",
     "output_type": "stream",
     "text": [
      "[3, 4, 6, 10, 12, 39, 54, 87]\n"
     ]
    }
   ],
   "source": [
    "#problem2b\n",
    "list_a.sort(reverse=False)\n",
    "print(list_a)"
   ]
  },
  {
   "cell_type": "code",
   "execution_count": 21,
   "metadata": {},
   "outputs": [
    {
     "name": "stdout",
     "output_type": "stream",
     "text": [
      "[87, 54, 39, 12, 10, 6, 4, 3]\n"
     ]
    }
   ],
   "source": [
    "list_a.sort(reverse=True)\n",
    "print(list_a)"
   ]
  },
  {
   "cell_type": "code",
   "execution_count": 36,
   "metadata": {},
   "outputs": [
    {
     "name": "stdout",
     "output_type": "stream",
     "text": [
      "3\n",
      "4\n",
      "6\n",
      "10\n",
      "39\n",
      "87\n",
      "12\n",
      "54\n"
     ]
    }
   ],
   "source": [
    "#problem2c\n",
    "a=[3, 4, 6, 10, 39, 87, 12, 54]\n",
    "for x in range(len(a)):\n",
    "    print(a[x])\n"
   ]
  },
  {
   "cell_type": "code",
   "execution_count": 30,
   "metadata": {},
   "outputs": [
    {
     "name": "stdout",
     "output_type": "stream",
     "text": [
      "The number is prime\n"
     ]
    }
   ],
   "source": [
    "#problem3a\n",
    "num = int(input(\"Enter number to check if prime: \"))\n",
    "if num <=1:\n",
    "    print(\"Invalid choice, try again\")\n",
    "    num = int(input(\"Enter number to check if prime: \"))\n",
    "\n",
    "for i in range(2,num):\n",
    "    if num% i ==0:\n",
    "        print(\"The number is not prime\")\n",
    "        break\n",
    "    if num %i !=0:\n",
    "        print(\"The number is prime\")"
   ]
  },
  {
   "cell_type": "code",
   "execution_count": 19,
   "metadata": {},
   "outputs": [
    {
     "name": "stdout",
     "output_type": "stream",
     "text": [
      "The number 2 is prime\n",
      "The number 3 is prime\n",
      "The number 5 is prime\n",
      "The number 7 is prime\n",
      "The number 11 is prime\n",
      "The number 13 is prime\n",
      "The number 17 is prime\n",
      "The number 19 is prime\n",
      "The number 23 is prime\n",
      "The number 29 is prime\n",
      "The number 31 is prime\n",
      "The number 37 is prime\n",
      "The number 41 is prime\n",
      "The number 43 is prime\n",
      "The number 47 is prime\n",
      "The number 53 is prime\n",
      "The number 59 is prime\n",
      "The number 61 is prime\n",
      "The number 67 is prime\n",
      "The number 71 is prime\n",
      "The number 73 is prime\n",
      "The number 79 is prime\n",
      "The number 83 is prime\n",
      "The number 89 is prime\n",
      "The number 97 is prime\n"
     ]
    }
   ],
   "source": [
    "#problem3b\n",
    "number = 0\n",
    "\n",
    "while(number <= 20):\n",
    "    for i in range(2, 100):\n",
    "        for j in range(2, i):\n",
    "            if i < j:\n",
    "                print(\"The number\",i,\"is prime\")\n",
    "            elif i % j == 0:\n",
    "                break\n",
    "        else:\n",
    "            print(\"The number\",i,\"is prime\")\n",
    "            number = number + 1\n",
    "            "
   ]
  },
  {
   "cell_type": "code",
   "execution_count": 41,
   "metadata": {},
   "outputs": [
    {
     "name": "stdout",
     "output_type": "stream",
     "text": [
      "2 3 5 7 11 13 17 19 23 29 31 37 41 43 47 53 59 61 67 71 73 79 83 89 97 "
     ]
    }
   ],
   "source": [
    "#problem3c\n",
    "def Prime(n):\n",
    "  if(n==1 or n==0):\n",
    "    return False\n",
    "    \n",
    "  for i in range(2,int(n**(1/2))+1):\n",
    "    if(n%i==0):\n",
    "      return False\n",
    "\n",
    "  return True\n",
    "  \n",
    "N = 100;\n",
    "for i in range(1,N+1):\n",
    "  if(Prime(i)):\n",
    "    print(i,end=\" \")\n",
    "            "
   ]
  },
  {
   "cell_type": "code",
   "execution_count": 25,
   "metadata": {},
   "outputs": [
    {
     "name": "stdout",
     "output_type": "stream",
     "text": [
      "[2, 3, 5, 7, 11, 13, 17, 19, 23, 29, 31, 37, 41, 43, 47, 53, 59, 61, 67, 71, 73, 79, 83, 89, 97, 101, 103, 107, 109, 113, 127, 131, 137, 139, 149, 151, 157, 163, 167, 173, 179, 181, 191, 193, 197, 199, 211, 223, 227, 229, 233, 239, 241, 251, 257, 263, 269, 271, 277, 281, 283, 293, 307, 311, 313, 317, 331, 337, 347, 349, 353, 359, 367, 373, 379, 383, 389, 397, 401, 409, 419, 421, 431, 433, 439, 443, 449, 457, 461, 463, 467, 479, 487, 491, 499, 503, 509, 521, 523, 541, 547, 557, 563, 569, 571, 577, 587, 593, 599, 601, 607, 613, 617, 619, 631, 641, 643, 647, 653, 659, 661, 673, 677, 683, 691, 701, 709, 719, 727, 733, 739, 743, 751, 757, 761, 769, 773, 787, 797, 809, 811, 821, 823, 827, 829, 839, 853, 857, 859, 863, 877, 881, 883, 887, 907, 911, 919, 929, 937, 941, 947, 953, 967, 971, 977, 983, 991, 997]\n"
     ]
    }
   ],
   "source": [
    "#problem3d\n",
    "problem = genprimes(1000)\n",
    "find_prime = [i for i in problem]\n",
    "\n",
    "print (find_prime)"
   ]
  },
  {
   "cell_type": "code",
   "execution_count": 32,
   "metadata": {},
   "outputs": [
    {
     "name": "stdout",
     "output_type": "stream",
     "text": [
      "[[[0.63376958 0.07740502 0.27105309]\n",
      "  [0.57232107 0.59020675 0.73642955]\n",
      "  [0.80264543 0.65698995 0.70574735]]\n",
      "\n",
      " [[0.7596206  0.16761114 0.61487074]\n",
      "  [0.4864099  0.60184884 0.81303264]\n",
      "  [0.64964565 0.66277341 0.63443321]]\n",
      "\n",
      " [[0.458365   0.54441787 0.43555581]\n",
      "  [0.01237794 0.72694842 0.06952612]\n",
      "  [0.48861148 0.76296593 0.16440557]]\n",
      "\n",
      " [[0.29213162 0.98986038 0.53325351]\n",
      "  [0.98040225 0.25676786 0.994549  ]\n",
      "  [0.29429786 0.14755327 0.97678997]]]\n"
     ]
    }
   ],
   "source": [
    "#problem4a\n",
    "import numpy as np \n",
    "num = int(input(\"Enter number to create array length: \"))\n",
    "#the data is random\n",
    "a= np.random.rand(num,3,3)\n",
    "print(a)"
   ]
  },
  {
   "cell_type": "code",
   "execution_count": 35,
   "metadata": {},
   "outputs": [
    {
     "name": "stdout",
     "output_type": "stream",
     "text": [
      "[[[0. 0. 0.]\n",
      "  [0. 0. 0.]\n",
      "  [0. 0. 0.]]\n",
      "\n",
      " [[0. 0. 0.]\n",
      "  [0. 0. 0.]\n",
      "  [0. 0. 0.]]\n",
      "\n",
      " [[0. 0. 0.]\n",
      "  [0. 0. 0.]\n",
      "  [0. 0. 0.]]\n",
      "\n",
      " [[0. 0. 0.]\n",
      "  [0. 0. 0.]\n",
      "  [0. 0. 0.]]\n",
      "\n",
      " [[0. 0. 0.]\n",
      "  [0. 0. 0.]\n",
      "  [0. 0. 0.]]\n",
      "\n",
      " [[0. 0. 0.]\n",
      "  [0. 0. 0.]\n",
      "  [0. 0. 0.]]\n",
      "\n",
      " [[0. 0. 0.]\n",
      "  [0. 0. 0.]\n",
      "  [0. 0. 0.]]\n",
      "\n",
      " [[0. 0. 0.]\n",
      "  [0. 0. 0.]\n",
      "  [0. 0. 0.]]\n",
      "\n",
      " [[0. 0. 0.]\n",
      "  [0. 0. 0.]\n",
      "  [0. 0. 0.]]\n",
      "\n",
      " [[0. 0. 0.]\n",
      "  [0. 0. 0.]\n",
      "  [0. 0. 0.]]]\n"
     ]
    }
   ],
   "source": [
    "#problem4b\n",
    "import numpy as np\n",
    "b=np.zeros((10,3,3))\n",
    "print(b)"
   ]
  },
  {
   "cell_type": "code",
   "execution_count": 41,
   "metadata": {},
   "outputs": [
    {
     "name": "stdout",
     "output_type": "stream",
     "text": [
      "[[[87 91 98]\n",
      "  [28 22 82]\n",
      "  [76  7  6]]\n",
      "\n",
      " [[82  9 57]\n",
      "  [83 63  9]\n",
      "  [48 49 17]]\n",
      "\n",
      " [[12 27 16]\n",
      "  [19 46 68]\n",
      "  [16 12 57]]\n",
      "\n",
      " [[13 59  8]\n",
      "  [89 20 76]\n",
      "  [17 38 27]]\n",
      "\n",
      " [[90 37 21]\n",
      "  [25 42 95]\n",
      "  [82 64 29]]]\n"
     ]
    }
   ],
   "source": [
    "#problem4c\n",
    "import numpy as np\n",
    "c=np.random.randint(1,100,size=(5,3,3))\n",
    "print(c)"
   ]
  },
  {
   "cell_type": "code",
   "execution_count": 40,
   "metadata": {},
   "outputs": [
    {
     "name": "stdout",
     "output_type": "stream",
     "text": [
      "[[-1.7]\n",
      " [ 1.9]\n",
      " [-1.5]]\n"
     ]
    }
   ],
   "source": [
    "#problem5\n",
    "import numpy as np\n",
    "\n",
    "A=np.matrix([\n",
    "            [3, 4, -5],\n",
    "            [0, 5, 1],\n",
    "            [1, 3, 6]\n",
    "                        ])\n",
    "\n",
    "B=np.matrix([\n",
    "            [10], \n",
    "            [8], \n",
    "            [-5]\n",
    "                        ])\n",
    "x=np.dot(np.linalg.inv(A),B)\n",
    "print(x)\n"
   ]
  },
  {
   "cell_type": "code",
   "execution_count": 28,
   "metadata": {},
   "outputs": [
    {
     "data": {
      "text/plain": [
       "[<matplotlib.lines.Line2D at 0x7fe06370f700>]"
      ]
     },
     "execution_count": 28,
     "metadata": {},
     "output_type": "execute_result"
    },
    {
     "data": {
      "image/png": "[encoded data removed]",
      "text/plain": [
       "<Figure size 432x288 with 1 Axes>"
      ]
     },
     "metadata": {
      "needs_background": "light"
     },
     "output_type": "display_data"
    }
   ],
   "source": [
    "#problem6a and problem6b\n",
    "import numpy as np\n",
    "from matplotlib import pyplot as plt\n",
    "#y = 0.1x^3-x^2+5\n",
    "a=0.1; b=1; c=5\n",
    "x = np.linspace(-5, 5, 30)\n",
    "y = a*x**3 - b*x**2 + c\n",
    "\n",
    "plt.plot(x, y)\n",
    "plt.xlabel('x')\n",
    "plt.ylabel('y')\n",
    "plt.xlim([-5, 5])\n",
    "\n",
    "# I found the minimum from \n",
    "from fractions import Fraction as frac\n",
    "plt.text(frac(20,3),-9.81481,'the min is at point(20/3,-9.81)')\n",
    "plt.text(0,5,'the maximum is (0,5)')\n",
    "plt.plot(frac(20,3),-9.81481,'bo-')\n",
    "plt.plot(0,5,'bo-')\n"
   ]
  }
 ],
 "metadata": {
  "kernelspec": {
   "display_name": "base",
   "language": "python",
   "name": "python3"
  },
  "language_info": {
   "codemirror_mode": {
    "name": "ipython",
    "version": 3
   },
   "file_extension": ".py",
   "mimetype": "text/x-python",
   "name": "python",
   "nbconvert_exporter": "python",
   "pygments_lexer": "ipython3",
   "version": "3.9.7"
  },
  "orig_nbformat": 4,
  "vscode": {
   "interpreter": {
    "hash": "27b2f4ff598b5042a5a1059cb650f5fd1acad13e8b75e673bd1d0ef275664725"
   }
  }
 },
 "nbformat": 4,
 "nbformat_minor": 2
}
