{
 "cells": [
  {
   "cell_type": "code",
   "execution_count": 16,
   "metadata": {},
   "outputs": [
    {
     "name": "stdout",
     "output_type": "stream",
     "text": [
      "   0.841498715000000\\t1.00936652600000\\t0.993816009000000\\t8.46980516700000\\t10.2787266700000\\t10.0377595000000\\t8.50136466700000\\t8.58172616700000\\t10.2477633300000\\t10.0588216700000\\t8.63136616700000\\t1485.52850000000\\t1485.45400000000\\t1485.43750000000\\t1485.35416700000\\t1485.46816700000\\t1485.45066700000\\t1484.92816700000\\t1485.50866700000\\t1485.39122900000\\t34.5703133300000\\t33.5058600000000\\t36.7024750000000\\t37.1305366700000\\t35.3238950000000\\t35.5940783300000\\t34.3750000000000\\t32.4511733300000\\t34.5686850000000\\t33.0826833300000\\t36.7220050000000\\t36.9694033300000\\t36.0758466700000\\t36.0514316700000\\t35.1741550000000\\t32.7294900000000\\t1\n",
      "0   0.842250216000000\\t1.00658369400000\\t0.9966052...                                                                                                                                                                                                                                                                                                                                                                                                                                                                                                                                                                                                                         \n",
      "1   0.840723143000000\\t1.01164656600000\\t0.9981517...                                                                                                                                                                                                                                                                                                                                                                                                                                                                                                                                                                                                                         \n",
      "2   0.841118753000000\\t1.01780731500000\\t0.9968115...                                                                                                                                                                                                                                                                                                                                                                                                                                                                                                                                                                                                                         \n",
      "3   0.840358190000000\\t1.01653438700000\\t0.9962207...                                                                                                                                                                                                                                                                                                                                                                                                                                                                                                                                                                                                                         \n",
      "4   0.838901056000000\\t1.01455715400000\\t0.9954039...                                                                                                                                                                                                                                                                                                                                                                                                                                                                                                                                                                                                                         \n",
      "..                                                ...                                                                                                                                                                                                                                                                                                                                                                                                                                                                                                                                                                                                                         \n",
      "81  0.792928711000000\\t1.00629466700000\\t0.9996659...                                                                                                                                                                                                                                                                                                                                                                                                                                                                                                                                                                                                                         \n",
      "82  0.792308769000000\\t1.00447233100000\\t0.9998734...                                                                                                                                                                                                                                                                                                                                                                                                                                                                                                                                                                                                                         \n",
      "83  0.793471116000000\\t1.00955964300000\\t1.0011101...                                                                                                                                                                                                                                                                                                                                                                                                                                                                                                                                                                                                                         \n",
      "84  0.796729869000000\\t1.01057037400000\\t0.9990289...                                                                                                                                                                                                                                                                                                                                                                                                                                                                                                                                                                                                                         \n",
      "85  0.790194266000000\\t1.00419540700000\\t0.9955374...                                                                                                                                                                                                                                                                                                                                                                                                                                                                                                                                                                                                                         \n",
      "\n",
      "[86 rows x 1 columns]\n"
     ]
    }
   ],
   "source": [
    "#import data file \n",
    "import pandas as pd\n",
    "import numpy as np\n",
    "df=pd.read_csv(\"Meter_A.txt\", sep=\" \")\n",
    "print(df)"
   ]
  },
  {
   "cell_type": "code",
   "execution_count": 14,
   "metadata": {},
   "outputs": [
    {
     "data": {
      "text/html": [
       "<div>\n",
       "<style scoped>\n",
       "    .dataframe tbody tr th:only-of-type {\n",
       "        vertical-align: middle;\n",
       "    }\n",
       "\n",
       "    .dataframe tbody tr th {\n",
       "        vertical-align: top;\n",
       "    }\n",
       "\n",
       "    .dataframe thead th {\n",
       "        text-align: right;\n",
       "    }\n",
       "</style>\n",
       "<table border=\"1\" class=\"dataframe\">\n",
       "  <thead>\n",
       "    <tr style=\"text-align: right;\">\n",
       "      <th></th>\n",
       "      <th>0</th>\n",
       "      <th>1</th>\n",
       "      <th>2</th>\n",
       "      <th>3</th>\n",
       "      <th>4</th>\n",
       "      <th>5</th>\n",
       "      <th>6</th>\n",
       "      <th>7</th>\n",
       "      <th>8</th>\n",
       "      <th>9</th>\n",
       "      <th>...</th>\n",
       "      <th>27</th>\n",
       "      <th>28</th>\n",
       "      <th>29</th>\n",
       "      <th>30</th>\n",
       "      <th>31</th>\n",
       "      <th>32</th>\n",
       "      <th>33</th>\n",
       "      <th>34</th>\n",
       "      <th>35</th>\n",
       "      <th>36</th>\n",
       "    </tr>\n",
       "  </thead>\n",
       "  <tbody>\n",
       "    <tr>\n",
       "      <th>0</th>\n",
       "      <td>0.841499</td>\n",
       "      <td>1.009367</td>\n",
       "      <td>0.993816</td>\n",
       "      <td>8.469805</td>\n",
       "      <td>10.278727</td>\n",
       "      <td>10.037759</td>\n",
       "      <td>8.501365</td>\n",
       "      <td>8.581726</td>\n",
       "      <td>10.247763</td>\n",
       "      <td>10.058822</td>\n",
       "      <td>...</td>\n",
       "      <td>32.451173</td>\n",
       "      <td>34.568685</td>\n",
       "      <td>33.082683</td>\n",
       "      <td>36.722005</td>\n",
       "      <td>36.969403</td>\n",
       "      <td>36.075847</td>\n",
       "      <td>36.051432</td>\n",
       "      <td>35.174155</td>\n",
       "      <td>32.729490</td>\n",
       "      <td>1</td>\n",
       "    </tr>\n",
       "    <tr>\n",
       "      <th>1</th>\n",
       "      <td>0.842250</td>\n",
       "      <td>1.006584</td>\n",
       "      <td>0.996605</td>\n",
       "      <td>7.531891</td>\n",
       "      <td>9.139924</td>\n",
       "      <td>8.951618</td>\n",
       "      <td>7.612213</td>\n",
       "      <td>7.623325</td>\n",
       "      <td>9.106345</td>\n",
       "      <td>8.945142</td>\n",
       "      <td>...</td>\n",
       "      <td>32.428385</td>\n",
       "      <td>34.441732</td>\n",
       "      <td>33.081055</td>\n",
       "      <td>36.687825</td>\n",
       "      <td>36.933595</td>\n",
       "      <td>36.054688</td>\n",
       "      <td>35.979818</td>\n",
       "      <td>34.847005</td>\n",
       "      <td>32.731122</td>\n",
       "      <td>1</td>\n",
       "    </tr>\n",
       "    <tr>\n",
       "      <th>2</th>\n",
       "      <td>0.840723</td>\n",
       "      <td>1.011647</td>\n",
       "      <td>0.998152</td>\n",
       "      <td>6.641699</td>\n",
       "      <td>7.975464</td>\n",
       "      <td>7.857692</td>\n",
       "      <td>6.593117</td>\n",
       "      <td>6.681572</td>\n",
       "      <td>7.964596</td>\n",
       "      <td>7.814698</td>\n",
       "      <td>...</td>\n",
       "      <td>32.428385</td>\n",
       "      <td>34.275715</td>\n",
       "      <td>33.113605</td>\n",
       "      <td>36.661785</td>\n",
       "      <td>36.873370</td>\n",
       "      <td>36.002605</td>\n",
       "      <td>35.963542</td>\n",
       "      <td>34.689128</td>\n",
       "      <td>32.771810</td>\n",
       "      <td>1</td>\n",
       "    </tr>\n",
       "    <tr>\n",
       "      <th>3</th>\n",
       "      <td>0.841119</td>\n",
       "      <td>1.017807</td>\n",
       "      <td>0.996812</td>\n",
       "      <td>5.687524</td>\n",
       "      <td>6.824334</td>\n",
       "      <td>6.689885</td>\n",
       "      <td>5.615428</td>\n",
       "      <td>5.763315</td>\n",
       "      <td>6.801051</td>\n",
       "      <td>6.686639</td>\n",
       "      <td>...</td>\n",
       "      <td>32.485350</td>\n",
       "      <td>34.080403</td>\n",
       "      <td>33.170573</td>\n",
       "      <td>36.673177</td>\n",
       "      <td>36.811525</td>\n",
       "      <td>35.974935</td>\n",
       "      <td>35.955403</td>\n",
       "      <td>34.500328</td>\n",
       "      <td>32.849935</td>\n",
       "      <td>1</td>\n",
       "    </tr>\n",
       "    <tr>\n",
       "      <th>4</th>\n",
       "      <td>0.840358</td>\n",
       "      <td>1.016534</td>\n",
       "      <td>0.996221</td>\n",
       "      <td>5.660385</td>\n",
       "      <td>6.829560</td>\n",
       "      <td>6.675628</td>\n",
       "      <td>5.623977</td>\n",
       "      <td>5.736818</td>\n",
       "      <td>6.813453</td>\n",
       "      <td>6.672377</td>\n",
       "      <td>...</td>\n",
       "      <td>32.503255</td>\n",
       "      <td>34.122720</td>\n",
       "      <td>33.164062</td>\n",
       "      <td>36.673177</td>\n",
       "      <td>36.826173</td>\n",
       "      <td>35.996095</td>\n",
       "      <td>35.968425</td>\n",
       "      <td>34.474283</td>\n",
       "      <td>32.853190</td>\n",
       "      <td>1</td>\n",
       "    </tr>\n",
       "  </tbody>\n",
       "</table>\n",
       "<p>5 rows × 37 columns</p>\n",
       "</div>"
      ],
      "text/plain": [
       "         0         1         2         3          4          5         6   \\\n",
       "0  0.841499  1.009367  0.993816  8.469805  10.278727  10.037759  8.501365   \n",
       "1  0.842250  1.006584  0.996605  7.531891   9.139924   8.951618  7.612213   \n",
       "2  0.840723  1.011647  0.998152  6.641699   7.975464   7.857692  6.593117   \n",
       "3  0.841119  1.017807  0.996812  5.687524   6.824334   6.689885  5.615428   \n",
       "4  0.840358  1.016534  0.996221  5.660385   6.829560   6.675628  5.623977   \n",
       "\n",
       "         7          8          9   ...         27         28         29  \\\n",
       "0  8.581726  10.247763  10.058822  ...  32.451173  34.568685  33.082683   \n",
       "1  7.623325   9.106345   8.945142  ...  32.428385  34.441732  33.081055   \n",
       "2  6.681572   7.964596   7.814698  ...  32.428385  34.275715  33.113605   \n",
       "3  5.763315   6.801051   6.686639  ...  32.485350  34.080403  33.170573   \n",
       "4  5.736818   6.813453   6.672377  ...  32.503255  34.122720  33.164062   \n",
       "\n",
       "          30         31         32         33         34         35  36  \n",
       "0  36.722005  36.969403  36.075847  36.051432  35.174155  32.729490   1  \n",
       "1  36.687825  36.933595  36.054688  35.979818  34.847005  32.731122   1  \n",
       "2  36.661785  36.873370  36.002605  35.963542  34.689128  32.771810   1  \n",
       "3  36.673177  36.811525  35.974935  35.955403  34.500328  32.849935   1  \n",
       "4  36.673177  36.826173  35.996095  35.968425  34.474283  32.853190   1  \n",
       "\n",
       "[5 rows x 37 columns]"
      ]
     },
     "execution_count": 14,
     "metadata": {},
     "output_type": "execute_result"
    }
   ],
   "source": [
    "#load 1lb data\n",
    "data = pd.read_csv(\"Meter_A.txt\", sep=\"\\t\", header=None).dropna()\n",
    "\n",
    "data.head()"
   ]
  },
  {
   "cell_type": "code",
   "execution_count": 24,
   "metadata": {},
   "outputs": [
    {
     "data": {
      "text/plain": [
       "0.841498715000000\\t1.00936652600000\\t0.993816009000000\\t8.46980516700000\\t10.2787266700000\\t10.0377595000000\\t8.50136466700000\\t8.58172616700000\\t10.2477633300000\\t10.0588216700000\\t8.63136616700000\\t1485.52850000000\\t1485.45400000000\\t1485.43750000000\\t1485.35416700000\\t1485.46816700000\\t1485.45066700000\\t1484.92816700000\\t1485.50866700000\\t1485.39122900000\\t34.5703133300000\\t33.5058600000000\\t36.7024750000000\\t37.1305366700000\\t35.3238950000000\\t35.5940783300000\\t34.3750000000000\\t32.4511733300000\\t34.5686850000000\\t33.0826833300000\\t36.7220050000000\\t36.9694033300000\\t36.0758466700000\\t36.0514316700000\\t35.1741550000000\\t32.7294900000000\\t1    0\n",
       "dtype: int64"
      ]
     },
     "execution_count": 24,
     "metadata": {},
     "output_type": "execute_result"
    }
   ],
   "source": [
    "import pandas as pd\n",
    "df=pd.read_csv(\"Meter_A.txt\", sep=\" \")\n",
    "df.isna().sum()"
   ]
  },
  {
   "cell_type": "code",
   "execution_count": 25,
   "metadata": {},
   "outputs": [
    {
     "name": "stdout",
     "output_type": "stream",
     "text": [
      "Series([], dtype: float64)\n"
     ]
    },
    {
     "name": "stderr",
     "output_type": "stream",
     "text": [
      "/var/folders/kp/vrcsnnv94xz6ck7wtrmrv1bc0000gn/T/ipykernel_27382/651589362.py:1: FutureWarning: Dropping of nuisance columns in DataFrame reductions (with 'numeric_only=None') is deprecated; in a future version this will raise TypeError.  Select only valid columns before calling the reduction.\n",
      "  df2 = df.mean(axis = 0, skipna = False)\n"
     ]
    }
   ],
   "source": [
    "df2 = df.mean(axis = 0, skipna = False)\n",
    "print(df2)"
   ]
  },
  {
   "cell_type": "code",
   "execution_count": 15,
   "metadata": {},
   "outputs": [
    {
     "data": {
      "text/plain": [
       "array([[ 0.84149871,  1.00936653,  0.99381601, ..., 35.174155  ,\n",
       "        32.72949   ,  1.        ],\n",
       "       [ 0.84225022,  1.00658369,  0.99660521, ..., 34.847005  ,\n",
       "        32.73112167,  1.        ],\n",
       "       [ 0.84072314,  1.01164657,  0.99815174, ..., 34.68912833,\n",
       "        32.77181   ,  1.        ],\n",
       "       ...,\n",
       "       [ 0.79347112,  1.00955964,  1.00111012, ..., 33.82487   ,\n",
       "        33.02083167,  2.        ],\n",
       "       [ 0.79672987,  1.01057037,  0.99902897, ..., 33.81673167,\n",
       "        33.01106667,  2.        ],\n",
       "       [ 0.79019427,  1.00419541,  0.99553749, ..., 33.66862167,\n",
       "        33.11848833,  2.        ]])"
      ]
     },
     "execution_count": 15,
     "metadata": {},
     "output_type": "execute_result"
    }
   ],
   "source": [
    "data=data.to_numpy()\n",
    "data"
   ]
  },
  {
   "cell_type": "code",
   "execution_count": 18,
   "metadata": {},
   "outputs": [
    {
     "name": "stdout",
     "output_type": "stream",
     "text": [
      "         0         1         2         3          4          5         6   \\\n",
      "0  0.841499  1.009367  0.993816  8.469805  10.278727  10.037759  8.501365   \n",
      "1  0.842250  1.006584  0.996605  7.531891   9.139924   8.951618  7.612213   \n",
      "2  0.840723  1.011647  0.998152  6.641699   7.975464   7.857692  6.593117   \n",
      "3  0.841119  1.017807  0.996812  5.687524   6.824334   6.689885  5.615428   \n",
      "4  0.840358  1.016534  0.996221  5.660385   6.829560   6.675628  5.623977   \n",
      "\n",
      "         7          8          9   ...         27         28         29  \\\n",
      "0  8.581726  10.247763  10.058822  ...  32.451173  34.568685  33.082683   \n",
      "1  7.623325   9.106345   8.945142  ...  32.428385  34.441732  33.081055   \n",
      "2  6.681572   7.964596   7.814698  ...  32.428385  34.275715  33.113605   \n",
      "3  5.763315   6.801051   6.686639  ...  32.485350  34.080403  33.170573   \n",
      "4  5.736818   6.813453   6.672377  ...  32.503255  34.122720  33.164062   \n",
      "\n",
      "          30         31         32         33         34         35  36  \n",
      "0  36.722005  36.969403  36.075847  36.051432  35.174155  32.729490   1  \n",
      "1  36.687825  36.933595  36.054688  35.979818  34.847005  32.731122   1  \n",
      "2  36.661785  36.873370  36.002605  35.963542  34.689128  32.771810   1  \n",
      "3  36.673177  36.811525  35.974935  35.955403  34.500328  32.849935   1  \n",
      "4  36.673177  36.826173  35.996095  35.968425  34.474283  32.853190   1  \n",
      "\n",
      "[5 rows x 37 columns]\n"
     ]
    }
   ],
   "source": [
    "def load_data(path):\n",
    "    data = pd.read_csv(path, sep=\"\\t\", header=None).dropna()\n",
    "\n",
    "    print(data.head())\n",
    "\n",
    "    data = data.to_numpy()\n",
    "\n",
    "    return data\n",
    "data=load_data(\"Meter_A.txt\")"
   ]
  },
  {
   "cell_type": "code",
   "execution_count": 11,
   "metadata": {},
   "outputs": [],
   "source": [
    "#preprocess 2lb data \n",
    "import sys\n",
    "import os\n",
    "#From 'Source.data_Preprocess returns error module source not found, cannot find on internet how to fix this"
   ]
  },
  {
   "cell_type": "code",
   "execution_count": 27,
   "metadata": {},
   "outputs": [
    {
     "name": "stdout",
     "output_type": "stream",
     "text": [
      "Defaulting to user installation because normal site-packages is not writeable\n",
      "Requirement already satisfied: pip in /Users/amandaross/Library/Python/3.9/lib/python/site-packages (23.0.1)\n",
      "Note: you may need to restart the kernel to use updated packages.\n"
     ]
    }
   ],
   "source": [
    "pip install --upgrade pip"
   ]
  },
  {
   "cell_type": "code",
   "execution_count": 12,
   "metadata": {},
   "outputs": [
    {
     "data": {
      "text/plain": [
       "'/Users/amandaross/Desktop/CHE 4230'"
      ]
     },
     "execution_count": 12,
     "metadata": {},
     "output_type": "execute_result"
    }
   ],
   "source": [
    "#preprocess 2lb data \n",
    "import sys\n",
    "import os\n",
    "import sklearn\n",
    "from sklearn.impute import SimpleImputer\n",
    "from sklearn.preprocessing import LabelEncoder\n",
    "from sklearn.model_selection import train_test_split\n",
    "from sklearn.preprocessing import StandardScaler\n",
    "os.chdir(\"../\")\n",
    "os.getcwd()"
   ]
  },
  {
   "cell_type": "code",
   "execution_count": 24,
   "metadata": {},
   "outputs": [],
   "source": [
    "data=(\"Meter_A.txt\")\n",
    "x_train, x_test = train_test_split(data, test_size = 0.2, random_state=30)\n",
    "x_train2, x_val = train_test_split(x_train, test_size = 0.3, random_state=30)"
   ]
  },
  {
   "cell_type": "code",
   "execution_count": 25,
   "metadata": {},
   "outputs": [
    {
     "name": "stdout",
     "output_type": "stream",
     "text": [
      "5\n",
      "3\n",
      "3\n"
     ]
    }
   ],
   "source": [
    "print(len(x_train2))\n",
    "print(len(x_test))\n",
    "print(len(x_val))"
   ]
  },
  {
   "cell_type": "code",
   "execution_count": 28,
   "metadata": {},
   "outputs": [],
   "source": [
    "#data_preprocess\n",
    "import pandas as pd\n",
    "\n",
    "\n",
    "class DataPreprocessing():\n",
    "    def __init__(self):\n",
    "        pass\n",
    "\n",
    "    def load_data(self, path):\n",
    "        data = pd.read_csv(path, sep=\"\\t\", header=None).dropna()\n",
    "\n",
    "        print(data.head())\n",
    "\n",
    "        data = data.to_numpy()\n",
    "\n",
    "        return data"
   ]
  },
  {
   "cell_type": "code",
   "execution_count": 1,
   "metadata": {},
   "outputs": [
    {
     "ename": "ModuleNotFoundError",
     "evalue": "No module named 'source'",
     "output_type": "error",
     "traceback": [
      "\u001b[0;31m---------------------------------------------------------------------------\u001b[0m",
      "\u001b[0;31mModuleNotFoundError\u001b[0m                       Traceback (most recent call last)",
      "\u001b[0;32m/var/folders/kp/vrcsnnv94xz6ck7wtrmrv1bc0000gn/T/ipykernel_27382/3158158784.py\u001b[0m in \u001b[0;36m<module>\u001b[0;34m\u001b[0m\n\u001b[1;32m      4\u001b[0m \u001b[0;34m\u001b[0m\u001b[0m\n\u001b[1;32m      5\u001b[0m \u001b[0;34m\u001b[0m\u001b[0m\n\u001b[0;32m----> 6\u001b[0;31m \u001b[0;32mfrom\u001b[0m \u001b[0msource\u001b[0m\u001b[0;34m.\u001b[0m\u001b[0mdata_preprocess\u001b[0m \u001b[0;32mimport\u001b[0m \u001b[0mDataPreprocessing\u001b[0m\u001b[0;34m\u001b[0m\u001b[0;34m\u001b[0m\u001b[0m\n\u001b[0m\u001b[1;32m      7\u001b[0m \u001b[0;34m\u001b[0m\u001b[0m\n\u001b[1;32m      8\u001b[0m \u001b[0;34m\u001b[0m\u001b[0m\n",
      "\u001b[0;31mModuleNotFoundError\u001b[0m: No module named 'source'"
     ]
    }
   ],
   "source": [
    "from sklearn.tree import DecisionTreeClassifier\n",
    "import numpy as np\n",
    "from sklearn.metrics import accuracy_score\n",
    "\n",
    "\n",
    "from source.data_preprocess import DataPreprocessing\n",
    "\n",
    "\n",
    "\n",
    "class ModelBuilder(DataPreprocessing):\n",
    "    def __init__(self, *args, **kwargs):\n",
    "        super(ModelBuilder, self).__init__(*args, **kwargs)\n",
    "\n",
    "    def dt(self, X_train, X_test, y_train, y_test):\n",
    "        #Create DT model\n",
    "        DT_classifier = DecisionTreeClassifier()\n",
    "\n",
    "        #Train the model\n",
    "        DT_classifier.fit(X_train, y_train)\n",
    "\n",
    "        #Test the model\n",
    "        DT_predicted = DT_classifier.predict(X_test)\n",
    "\n",
    "        error = 0\n",
    "        for i in range(len(y_test)):\n",
    "            error += np.sum(DT_predicted != y_test)\n",
    "\n",
    "        total_accuracy = 1 - error / len(y_test)\n",
    "\n",
    "        #get performance\n",
    "        self.accuracy = accuracy_score(y_test, DT_predicted)\n",
    "\n",
    "        return DT_classifier"
   ]
  },
  {
   "cell_type": "code",
   "execution_count": 4,
   "metadata": {},
   "outputs": [],
   "source": [
    "from sklearn.model_selection import train_test_split\n",
    "data=(\"Meter_A.txt\")\n",
    "train_validation, test = train_test_split(data, test_size = 0.2, random_state=12)\n",
    "train, validation = train_test_split(train_validation, test_size = 0.2, random_state=99)\n",
    "from sklearn."
   ]
  },
  {
   "cell_type": "code",
   "execution_count": 6,
   "metadata": {},
   "outputs": [
    {
     "ename": "SyntaxError",
     "evalue": "invalid syntax (50749965.py, line 1)",
     "output_type": "error",
     "traceback": [
      "\u001b[0;36m  File \u001b[0;32m\"/var/folders/kp/vrcsnnv94xz6ck7wtrmrv1bc0000gn/T/ipykernel_27382/50749965.py\"\u001b[0;36m, line \u001b[0;32m1\u001b[0m\n\u001b[0;31m    pip install <source>\u001b[0m\n\u001b[0m        ^\u001b[0m\n\u001b[0;31mSyntaxError\u001b[0m\u001b[0;31m:\u001b[0m invalid syntax\n"
     ]
    }
   ],
   "source": [
    "pip install <source>\n",
    "from source.data_preprocess import DataPreprocessing\n",
    "from source.model_builder import ModelBuilder"
   ]
  },
  {
   "cell_type": "code",
   "execution_count": 10,
   "metadata": {},
   "outputs": [
    {
     "ename": "ModuleNotFoundError",
     "evalue": "No module named 'source'",
     "output_type": "error",
     "traceback": [
      "\u001b[0;31m---------------------------------------------------------------------------\u001b[0m",
      "\u001b[0;31mModuleNotFoundError\u001b[0m                       Traceback (most recent call last)",
      "\u001b[0;32m/var/folders/kp/vrcsnnv94xz6ck7wtrmrv1bc0000gn/T/ipykernel_27382/2179427558.py\u001b[0m in \u001b[0;36m<module>\u001b[0;34m\u001b[0m\n\u001b[1;32m      1\u001b[0m \u001b[0;31m#if source was working,\u001b[0m\u001b[0;34m\u001b[0m\u001b[0;34m\u001b[0m\u001b[0m\n\u001b[0;32m----> 2\u001b[0;31m \u001b[0;32mfrom\u001b[0m \u001b[0msource\u001b[0m\u001b[0;34m.\u001b[0m\u001b[0mmodel_builder\u001b[0m \u001b[0;32mimport\u001b[0m \u001b[0mModelBuilder\u001b[0m\u001b[0;34m\u001b[0m\u001b[0;34m\u001b[0m\u001b[0m\n\u001b[0m\u001b[1;32m      3\u001b[0m \u001b[0mmodel_builder\u001b[0m \u001b[0;34m=\u001b[0m \u001b[0mModelBuilder\u001b[0m\u001b[0;34m(\u001b[0m\u001b[0;34m)\u001b[0m\u001b[0;34m\u001b[0m\u001b[0;34m\u001b[0m\u001b[0m\n\u001b[1;32m      4\u001b[0m \u001b[0;34m\u001b[0m\u001b[0m\n\u001b[1;32m      5\u001b[0m \u001b[0mdt_model\u001b[0m \u001b[0;34m=\u001b[0m \u001b[0mmodel_builder\u001b[0m\u001b[0;34m.\u001b[0m\u001b[0mdt\u001b[0m\u001b[0;34m(\u001b[0m\u001b[0mX_train\u001b[0m\u001b[0;34m=\u001b[0m\u001b[0mtrain\u001b[0m\u001b[0;34m[\u001b[0m\u001b[0;34m:\u001b[0m\u001b[0;34m,\u001b[0m \u001b[0;34m:\u001b[0m\u001b[0;34m-\u001b[0m\u001b[0;36m1\u001b[0m\u001b[0;34m]\u001b[0m\u001b[0;34m,\u001b[0m \u001b[0mX_test\u001b[0m\u001b[0;34m=\u001b[0m\u001b[0mvalidation\u001b[0m\u001b[0;34m[\u001b[0m\u001b[0;34m:\u001b[0m\u001b[0;34m,\u001b[0m \u001b[0;34m:\u001b[0m\u001b[0;34m-\u001b[0m\u001b[0;36m1\u001b[0m\u001b[0;34m]\u001b[0m\u001b[0;34m,\u001b[0m \u001b[0my_train\u001b[0m\u001b[0;34m=\u001b[0m\u001b[0mtrain\u001b[0m\u001b[0;34m[\u001b[0m\u001b[0;34m:\u001b[0m\u001b[0;34m,\u001b[0m \u001b[0;34m-\u001b[0m\u001b[0;36m1\u001b[0m\u001b[0;34m]\u001b[0m\u001b[0;34m,\u001b[0m \u001b[0my_test\u001b[0m \u001b[0;34m=\u001b[0m \u001b[0mvalidation\u001b[0m\u001b[0;34m[\u001b[0m\u001b[0;34m:\u001b[0m\u001b[0;34m,\u001b[0m \u001b[0;34m-\u001b[0m\u001b[0;36m1\u001b[0m\u001b[0;34m]\u001b[0m\u001b[0;34m)\u001b[0m\u001b[0;34m\u001b[0m\u001b[0;34m\u001b[0m\u001b[0m\n",
      "\u001b[0;31mModuleNotFoundError\u001b[0m: No module named 'source'"
     ]
    }
   ],
   "source": [
    "#if source was working, \n",
    "from source.model_builder import ModelBuilder\n",
    "model_builder = ModelBuilder()\n",
    "\n",
    "dt_model = model_builder.dt(X_train=train[:, :-1], X_test=validation[:, :-1], y_train=train[:, -1], y_test = validation[:, -1])\n",
    "\n",
    "model_builder.accuracy"
   ]
  },
  {
   "cell_type": "code",
   "execution_count": 20,
   "metadata": {},
   "outputs": [],
   "source": [
    "##Hidden_layers_sizes\n",
    "#Importing MLPClassifier\n",
    "from sklearn.neural_network import MLPClassifier\n",
    "\n",
    "#Initializing the MLPClassifier\n",
    "classifier = MLPClassifier(hidden_layer_sizes=(150,100,50), max_iter=300,activation = 'relu',solver='adam',random_state=1)"
   ]
  },
  {
   "cell_type": "code",
   "execution_count": 19,
   "metadata": {},
   "outputs": [
    {
     "ename": "NameError",
     "evalue": "name 'training_set' is not defined",
     "output_type": "error",
     "traceback": [
      "\u001b[0;31m---------------------------------------------------------------------------\u001b[0m",
      "\u001b[0;31mNameError\u001b[0m                                 Traceback (most recent call last)",
      "\u001b[0;32m/var/folders/kp/vrcsnnv94xz6ck7wtrmrv1bc0000gn/T/ipykernel_27382/3604244585.py\u001b[0m in \u001b[0;36m<module>\u001b[0;34m\u001b[0m\n\u001b[1;32m      1\u001b[0m \u001b[0;31m#Fitting the training data to the network\u001b[0m\u001b[0;34m\u001b[0m\u001b[0;34m\u001b[0m\u001b[0m\n\u001b[0;32m----> 2\u001b[0;31m \u001b[0mX_train\u001b[0m\u001b[0;34m=\u001b[0m\u001b[0mtraining_set\u001b[0m\u001b[0;34m.\u001b[0m\u001b[0miloc\u001b[0m\u001b[0;34m[\u001b[0m\u001b[0;34m:\u001b[0m\u001b[0;34m,\u001b[0m\u001b[0;36m0\u001b[0m\u001b[0;34m:\u001b[0m\u001b[0;34m-\u001b[0m\u001b[0;36m1\u001b[0m\u001b[0;34m]\u001b[0m\u001b[0;34m.\u001b[0m\u001b[0mvalues\u001b[0m\u001b[0;34m\u001b[0m\u001b[0;34m\u001b[0m\u001b[0m\n\u001b[0m\u001b[1;32m      3\u001b[0m \u001b[0my_train\u001b[0m\u001b[0;34m=\u001b[0m\u001b[0mtraining_set\u001b[0m\u001b[0;34m.\u001b[0m\u001b[0miloc\u001b[0m\u001b[0;34m[\u001b[0m\u001b[0;34m:\u001b[0m\u001b[0;34m,\u001b[0m\u001b[0;34m-\u001b[0m\u001b[0;36m1\u001b[0m\u001b[0;34m]\u001b[0m\u001b[0;34m.\u001b[0m\u001b[0mvalues\u001b[0m\u001b[0;34m\u001b[0m\u001b[0;34m\u001b[0m\u001b[0m\n\u001b[1;32m      4\u001b[0m \u001b[0mclassifier\u001b[0m\u001b[0;34m.\u001b[0m\u001b[0mfit\u001b[0m\u001b[0;34m(\u001b[0m\u001b[0mX_train\u001b[0m\u001b[0;34m,\u001b[0m \u001b[0mY_train\u001b[0m\u001b[0;34m)\u001b[0m\u001b[0;34m\u001b[0m\u001b[0;34m\u001b[0m\u001b[0m\n",
      "\u001b[0;31mNameError\u001b[0m: name 'training_set' is not defined"
     ]
    }
   ],
   "source": [
    "#Fitting the training data to the network\n",
    "X_train=training_set.iloc[:,0:-1].values\n",
    "y_train=training_set.iloc[:,-1].values\n",
    "classifier.fit(X_train, Y_train)"
   ]
  },
  {
   "cell_type": "code",
   "execution_count": 21,
   "metadata": {},
   "outputs": [
    {
     "name": "stderr",
     "output_type": "stream",
     "text": [
      "/Users/amandaross/opt/anaconda3/lib/python3.9/site-packages/sklearn/neural_network/_multilayer_perceptron.py:614: ConvergenceWarning: Stochastic Optimizer: Maximum iterations (100) reached and the optimization hasn't converged yet.\n",
      "  warnings.warn(\n"
     ]
    },
    {
     "name": "stdout",
     "output_type": "stream",
     "text": [
      "Hidden Layer Sizes: (10,), Learning Rate Init: 0.001, Max Iter: 100\n",
      "Training accuracy: 0.8662\n",
      "Test accuracy: 0.8500\n",
      "\n",
      "Hidden Layer Sizes: (10,), Learning Rate Init: 0.01, Max Iter: 1000\n",
      "Training accuracy: 0.9437\n",
      "Test accuracy: 0.8500\n",
      "\n",
      "Hidden Layer Sizes: (50, 50), Learning Rate Init: 0.001, Max Iter: 500\n",
      "Training accuracy: 1.0000\n",
      "Test accuracy: 0.8750\n",
      "\n",
      "Hidden Layer Sizes: (100, 50, 10), Learning Rate Init: 0.01, Max Iter: 1000\n",
      "Training accuracy: 0.9938\n",
      "Test accuracy: 0.8550\n",
      "\n"
     ]
    }
   ],
   "source": [
    "#learning_rate_init\n",
    "#controls the step-size in updating weights\n",
    "\n",
    "#max_iter\n",
    "#max_iter iterates unit convergance and says the number of iterations\n",
    "import numpy as np\n",
    "from sklearn.neural_network import MLPClassifier\n",
    "from sklearn.datasets import make_classification\n",
    "from sklearn.model_selection import train_test_split\n",
    "X, y = make_classification(n_samples=1000, n_features=10, n_classes=2, random_state=42)\n",
    "\n",
    "# Split the dataset into training and test sets\n",
    "X_train, X_test, y_train, y_test = train_test_split(X, y, test_size=0.2, random_state=42)\n",
    "\n",
    "#create and train a neural network model\n",
    "def train_mlp(hidden_layer_sizes, learning_rate_init, max_iter):\n",
    "    mlp = MLPClassifier(hidden_layer_sizes=hidden_layer_sizes, learning_rate_init=learning_rate_init, max_iter=max_iter, random_state=42)\n",
    "    mlp.fit(X_train, y_train)\n",
    "    train_acc = mlp.score(X_train, y_train)\n",
    "    test_acc = mlp.score(X_test, y_test)\n",
    "    print(f\"Hidden Layer Sizes: {hidden_layer_sizes}, Learning Rate Init: {learning_rate_init}, Max Iter: {max_iter}\")\n",
    "    print(f\"Training accuracy: {train_acc:.4f}\")\n",
    "    print(f\"Test accuracy: {test_acc:.4f}\")\n",
    "    print(\"\")\n",
    "\n",
    "# Train neural network models with different hyperparameter values\n",
    "train_mlp(hidden_layer_sizes=(10,), learning_rate_init=0.001, max_iter=100)\n",
    "train_mlp(hidden_layer_sizes=(10,), learning_rate_init=0.01, max_iter=1000)\n",
    "train_mlp(hidden_layer_sizes=(50, 50), learning_rate_init=0.001, max_iter=500)\n",
    "train_mlp(hidden_layer_sizes=(100, 50, 10), learning_rate_init=0.01, max_iter=1000)\n"
   ]
  },
  {
   "cell_type": "code",
   "execution_count": null,
   "metadata": {},
   "outputs": [],
   "source": [
    "#Explanation for Part F:\n",
    "#From trying different values, the accuracy of classifying varies/ is contingent upon the hyperparameter values.\n"
   ]
  }
 ],
 "metadata": {
  "kernelspec": {
   "display_name": "base",
   "language": "python",
   "name": "python3"
  },
  "language_info": {
   "codemirror_mode": {
    "name": "ipython",
    "version": 3
   },
   "file_extension": ".py",
   "mimetype": "text/x-python",
   "name": "python",
   "nbconvert_exporter": "python",
   "pygments_lexer": "ipython3",
   "version": "3.9.7"
  },
  "orig_nbformat": 4,
  "vscode": {
   "interpreter": {
    "hash": "27b2f4ff598b5042a5a1059cb650f5fd1acad13e8b75e673bd1d0ef275664725"
   }
  }
 },
 "nbformat": 4,
 "nbformat_minor": 2
}
